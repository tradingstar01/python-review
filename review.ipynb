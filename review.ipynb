{
 "cells": [
  {
   "cell_type": "code",
   "execution_count": 1,
   "id": "a65620cc-e69d-4626-9a89-f30f995b1597",
   "metadata": {},
   "outputs": [],
   "source": [
    "#create function generate_num_list(n)"
   ]
  },
  {
   "cell_type": "code",
   "execution_count": 6,
   "id": "2128c991-2edb-4b26-9271-745150818fa7",
   "metadata": {},
   "outputs": [
    {
     "name": "stdout",
     "output_type": "stream",
     "text": [
      "[0]\n"
     ]
    }
   ],
   "source": [
    "def generate_num_list(n):\n",
    "    num_list = []\n",
    "    for i in range(n):\n",
    "        num_list.append(i)\n",
    "        return num_list\n",
    "print(generate_num_list(10))\n",
    "    "
   ]
  },
  {
   "cell_type": "code",
   "execution_count": 7,
   "id": "213fa46e-2d27-490c-824c-1f137bcb0cf2",
   "metadata": {},
   "outputs": [
    {
     "name": "stdout",
     "output_type": "stream",
     "text": [
      "[0, 1, 2, 3, 4, 5, 6, 7, 8, 9]\n",
      "[0, 1, 2, 3, 4, 5, 6, 7, 8, 9]\n"
     ]
    },
    {
     "data": {
      "text/plain": [
       "[0, 1, 2, 3, 4, 5, 6, 7, 8, 9]"
      ]
     },
     "execution_count": 7,
     "metadata": {},
     "output_type": "execute_result"
    }
   ],
   "source": [
    "#create a function. generate_num_list(n)\n",
    "\n",
    "def generate_num_list(n):\n",
    "    num = list(range(0,n))\n",
    "    return num\n",
    "    \n",
    "print(generate_num_list(10))\n",
    "[0, 1, 2, 3, 4, 5, 6, 7, 8, 9]\n",
    "def generate_num_list(n):\n",
    "    num_list=[]\n",
    "    for i in range(n):\n",
    "        num_list.append(i)\n",
    "    return num_list\n",
    "\n",
    "print(generate_num_list(10))\n",
    "[0, 1, 2, 3, 4, 5, 6, 7, 8, 9]"
   ]
  },
  {
   "cell_type": "code",
   "execution_count": 9,
   "id": "ad1cae87-729b-411c-911e-614a86e56b26",
   "metadata": {},
   "outputs": [
    {
     "ename": "SyntaxError",
     "evalue": "invalid syntax (379207938.py, line 9)",
     "output_type": "error",
     "traceback": [
      "\u001b[1;36m  Cell \u001b[1;32mIn[9], line 9\u001b[1;36m\u001b[0m\n\u001b[1;33m    The number is: 4\u001b[0m\n\u001b[1;37m        ^\u001b[0m\n\u001b[1;31mSyntaxError\u001b[0m\u001b[1;31m:\u001b[0m invalid syntax\n"
     ]
    }
   ],
   "source": [
    "# create a function. print_number(num_list, n). output should be something like \"the number is \"\n",
    "num_list = generate_num_list(20)\n",
    "\n",
    "def print_number(num_list, n):\n",
    "    i = num_list[n]\n",
    "    return i\n",
    "number = print_number(num_list, 4)\n",
    "print(f\"The number is: {number}\")\n",
    "The number is: 4\n",
    "def print_number(num_list, n):\n",
    "    if n <= len(num_list):\n",
    "        print(\"The number is\", num_list[n-1])\n",
    "    else:\n",
    "        print(\"Error!\")\n",
    "#test       \n",
    "numbers = [10,20,15,14,12,30]\n",
    "print_number(numbers,6)\n",
    "The number is 30\n",
    "def print_number(numlist,n):\n",
    "    i = num_list[n]\n",
    "    return i\n",
    "number = print_number(num_list,4)\n",
    "print(f\"the number is: {number}\")\n"
   ]
  },
  {
   "cell_type": "code",
   "execution_count": 11,
   "id": "70af44db-ce16-48d6-ba3a-a4d41a2555a7",
   "metadata": {},
   "outputs": [
    {
     "name": "stdout",
     "output_type": "stream",
     "text": [
      "{'Alex': 'Maverick', 'Amar': 'Juno', 'Andy': 'Fox', 'Emily': 'Ice Queen', 'Ethan': 'Thor', 'Felipe': 'Tiger', 'Harshita': 'Quantum', 'Haihua': 'Siren', 'Hazel': 'Cosmos', 'Ivan': 'Dark Lord', 'Jahed': 'Obiwan', 'Kala': 'Legand', 'Maximus': 'Tomato', 'Mingyang': 'Paladin', 'Obi': 'Phoenix', 'Onyepunuka': 'Viper', 'Parastoo': 'Auroa', 'Ramees': 'Rebel', 'Ramzi': 'Dreamer', 'Saleha': 'Gandalf', 'Samuel': 'Super Nova', 'Scott': 'Onion', 'Shweta': 'Dragon lady', 'Sophie': 'Shadow', 'Nariman': 'Star Lord', 'Tibor': 'Spicy', 'Yujie': 'Magician', 'Vishnu': 'Voyager', 'John': 'wolf', 'Salman': 'Python', 'Kyla': 'Sky walker', 'Huan': 'Jumper'}\n"
     ]
    }
   ],
   "source": [
    "import random\n",
    "\n",
    "space_pirates = ['Alex', 'Amar', 'Andy', 'Emily', 'Ethan', 'Felipe', 'Harshita', 'Haihua', \n",
    "                 'Hazel', 'Ivan', 'Jahed', 'Kala', 'Maximus', 'Mingyang', 'Obi', 'Onyepunuka', \n",
    "                 'Parastoo', 'Ramees', 'Ramzi', 'Saleha', 'Samuel', 'Scott', 'Shweta', 'Sophie', \n",
    "                 'Nariman', 'Tibor', 'Yujie', 'Vishnu', 'John', 'Salman', 'Kyla', 'Huan']\n",
    "\n",
    "\n",
    "\n",
    "code_names = ['Dark Lord', 'Ice Queen', 'Star Lord', 'Viper', 'Phoenix', 'Shadow', 'Thor', \n",
    "              'Obiwan', 'Sky walker', 'Dreamer', 'Quantum', 'Voyager', 'Paladin', 'Juno', \n",
    "              'Super Nova', 'Siren', 'Auroa', 'Fox', 'wolf', 'Tiger', 'Tomato', 'Onion', 'Spicy', \n",
    "              'Python', 'Rebel', 'Cosmos', 'Gandalf', 'Jumper', 'Maverick', 'Magician', 'Dragon lady', 'Legand']\n",
    "def produce_codename_dict(names, code_names):\n",
    "    pirate_names = {}\n",
    "    code_name_left = code_names\n",
    "              \n",
    "    for name in names:\n",
    "        code_name = random.choice(code_name_left)\n",
    "        pirate_names[name] =  code_name\n",
    "        code_name_left.remove(code_name)\n",
    "    return pirate_names\n",
    "\n",
    "print(produce_codename_dict(space_pirates, code_names))\n"
   ]
  },
  {
   "cell_type": "code",
   "execution_count": null,
   "id": "85ee9dde-ad8f-4c50-b348-f8dbde5ccef5",
   "metadata": {},
   "outputs": [],
   "source": [
    "# Incorporate the random library\n",
    "import random\n",
    "\n",
    "# Print Title\n",
    "print(\"Let's Play Rock Paper Scissors!\")\n",
    "\n",
    "# Specify the three options\n",
    "options = [\"r\", \"p\", \"s\"]\n",
    "\n",
    "# Computer Selection\n",
    "computer_choice = random.choice(options)\n",
    "\n",
    "# User Selection\n",
    "user_choice = input(\"Make your Choice: (r)ock, (p)aper, (s)cissors? \")\n",
    "\n",
    "# Run Conditionals\n",
    "    "
   ]
  }
 ],
 "metadata": {
  "kernelspec": {
   "display_name": "Python 3 (ipykernel)",
   "language": "python",
   "name": "python3"
  },
  "language_info": {
   "codemirror_mode": {
    "name": "ipython",
    "version": 3
   },
   "file_extension": ".py",
   "mimetype": "text/x-python",
   "name": "python",
   "nbconvert_exporter": "python",
   "pygments_lexer": "ipython3",
   "version": "3.10.9"
  }
 },
 "nbformat": 4,
 "nbformat_minor": 5
}
